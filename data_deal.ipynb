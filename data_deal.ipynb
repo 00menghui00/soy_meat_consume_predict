{
 "cells": [
  {
   "cell_type": "code",
   "execution_count": null,
   "metadata": {},
   "outputs": [],
   "source": [
    "import pandas as pd\n",
    "data = pd.read_stata(r\"F:\\consumption_prediction\\1997-2011年食物消费.dta\")\n",
    "print(data.head())"
   ]
  },
  {
   "cell_type": "code",
   "execution_count": 1,
   "metadata": {},
   "outputs": [],
   "source": [
    "import pandas as pd\n",
    "data=pd.read_stata(r\"F:\\consumption_prediction\\大豆和畜肉.dta\")\n",
    "data.to_excel(r'F:\\consumption_prediction\\大豆和畜肉.xlsx',index=False)"
   ]
  },
  {
   "cell_type": "code",
   "execution_count": 5,
   "metadata": {},
   "outputs": [],
   "source": [
    "import pandas as pd\n",
    "data=pd.read_stata(r\"F:\\consumption_prediction\\other.dta\")\n",
    "data.to_excel(r'F:\\consumption_prediction\\other.xlsx',index=False)"
   ]
  },
  {
   "cell_type": "code",
   "execution_count": 4,
   "metadata": {},
   "outputs": [],
   "source": [
    "import pandas as pd\n",
    "\n",
    "source_file=r\"F:\\consumption_prediction\\data\\1997-2011年食物消费统计表.xlsx\"\n",
    "data=pd.read_excel(source_file,sheet_name='Sheet1')\n",
    "selected_data=data[['year','省份', '城乡', '年龄', '教育', '家庭规模', '人均年收入', '城市化指数', '性别', '大豆', '畜禽肉']]\n",
    "destination_file=r\"F:\\consumption_prediction\\dataset.xlsx\"\n",
    "selected_data.to_excel(destination_file,index=False)"
   ]
  },
  {
   "cell_type": "code",
   "execution_count": null,
   "metadata": {},
   "outputs": [],
   "source": [
    "import pandas as pd\n",
    "import multiprocessing\n",
    "\n",
    "# 读取数据\n",
    "source_file = r\"F:\\consumption_prediction\\data\\1997-2011年食物消费统计表.xlsx\"\n",
    "data = pd.read_excel(source_file, sheet_name='Sheet1')\n",
    "\n",
    "# 选择需要的列\n",
    "selected_data = data[['省份', '城乡', '年龄', '教育', '家庭规模', '人均年收入', '城市化指数', '性别', '大豆', '畜禽肉']]\n",
    "\n",
    "# 定义一个函数用于分割和处理数据\n",
    "def process_data(chunk):\n",
    "    # 在此进行数据处理（如果有其他处理需求，可以修改此处）\n",
    "    return chunk\n",
    "\n",
    "# 定义一个函数来分割数据并应用多进程\n",
    "def parallel_processing(data, num_chunks):\n",
    "    # 计算每个子任务的大小\n",
    "    chunk_size = len(data) // num_chunks\n",
    "    chunks = [data.iloc[i:i + chunk_size] for i in range(0, len(data), chunk_size)]\n",
    "    \n",
    "    # 使用多进程处理\n",
    "    with multiprocessing.Pool(processes=num_chunks) as pool:\n",
    "        result = pool.map(process_data, chunks)\n",
    "    \n",
    "    # 将所有结果合并\n",
    "    return pd.concat(result, ignore_index=True)\n",
    "\n",
    "# 进行并行处理（比如设置为4个进程）\n",
    "num_chunks = 4\n",
    "processed_data = parallel_processing(selected_data, num_chunks)\n",
    "\n",
    "# 保存处理后的数据\n",
    "destination_file = r\"F:\\consumption_prediction\\dataset.xlsx\"\n",
    "processed_data.to_excel(destination_file, index=False)\n",
    "\n",
    "print(\"Data processing complete!\")\n"
   ]
  }
 ],
 "metadata": {
  "kernelspec": {
   "display_name": "ML",
   "language": "python",
   "name": "python3"
  },
  "language_info": {
   "codemirror_mode": {
    "name": "ipython",
    "version": 3
   },
   "file_extension": ".py",
   "mimetype": "text/x-python",
   "name": "python",
   "nbconvert_exporter": "python",
   "pygments_lexer": "ipython3",
   "version": "3.8.20"
  }
 },
 "nbformat": 4,
 "nbformat_minor": 2
}
